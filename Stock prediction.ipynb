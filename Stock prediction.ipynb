{
 "cells": [
  {
   "cell_type": "code",
   "execution_count": 5,
   "id": "a2c92559",
   "metadata": {},
   "outputs": [],
   "source": [
    "import numpy as np\n",
    "import matplotlib.pyplot as plt\n",
    "import pandas as pd"
   ]
  },
  {
   "cell_type": "code",
   "execution_count": 6,
   "id": "e3eae680",
   "metadata": {},
   "outputs": [
    {
     "data": {
      "text/plain": [
       "<bound method NDFrame.head of             Date     Open     High      Low    Close    Volume\n",
       "0     2016-01-04  1099.59  1110.75  1093.85  1109.64  66545000\n",
       "1     2016-01-05  1117.47  1130.57  1112.75  1125.85  41227200\n",
       "2     2016-01-06  1116.63  1138.68  1116.10  1133.04  42316800\n",
       "3     2016-01-07  1122.00  1149.76  1117.56  1143.37  64899600\n",
       "4     2016-01-08  1145.64  1149.96  1120.93  1122.88  52138900\n",
       "...          ...      ...      ...      ...      ...       ...\n",
       "1650  2022-07-25  2412.25  2429.44  2387.41  2402.95  29106300\n",
       "1651  2022-07-26  2289.29  2307.08  2255.66  2280.27  48503400\n",
       "1652  2022-07-27  2309.14  2404.25  2296.82  2395.54  43790900\n",
       "1653  2022-07-28  2385.58  2443.26  2377.34  2434.89  25807000\n",
       "1654  2022-07-29  2410.86  2479.24  2406.35  2474.93  32907600\n",
       "\n",
       "[1655 rows x 6 columns]>"
      ]
     },
     "execution_count": 6,
     "metadata": {},
     "output_type": "execute_result"
    }
   ],
   "source": [
    "data = pd.read_csv('train.csv')\n",
    "data.head"
   ]
  },
  {
   "cell_type": "code",
   "execution_count": 7,
   "id": "66be6439",
   "metadata": {},
   "outputs": [],
   "source": [
    "training_set = data.iloc[:, 1:2].values"
   ]
  },
  {
   "cell_type": "code",
   "execution_count": 8,
   "id": "64638df4",
   "metadata": {},
   "outputs": [
    {
     "data": {
      "text/plain": [
       "(1655, 1)"
      ]
     },
     "execution_count": 8,
     "metadata": {},
     "output_type": "execute_result"
    }
   ],
   "source": [
    "from sklearn.preprocessing import MinMaxScaler\n",
    "sc = MinMaxScaler(feature_range=(0,1))\n",
    "training_set_scaled = sc.fit_transform(training_set)\n",
    "training_set_scaled.shape"
   ]
  },
  {
   "cell_type": "code",
   "execution_count": 9,
   "id": "48ff423b",
   "metadata": {},
   "outputs": [],
   "source": [
    "X_train = []\n",
    "y_train = []\n",
    "for i in range(60, 1655):\n",
    "    X_train.append(training_set_scaled[i-60:i, 0])\n",
    "    y_train.append(training_set_scaled[i, 0])\n",
    "X_train, y_train = np.array(X_train), np.array(y_train)\n",
    "X_train = np.reshape(X_train, (X_train.shape[0], X_train.shape[1], 1))"
   ]
  },
  {
   "cell_type": "code",
   "execution_count": 10,
   "id": "c4a8b56b",
   "metadata": {},
   "outputs": [
    {
     "name": "stderr",
     "output_type": "stream",
     "text": [
      "2022-10-22 02:04:12.179744: W tensorflow/stream_executor/platform/default/dso_loader.cc:64] Could not load dynamic library 'libcudart.so.11.0'; dlerror: libcudart.so.11.0: cannot open shared object file: No such file or directory\n",
      "2022-10-22 02:04:12.179818: I tensorflow/stream_executor/cuda/cudart_stub.cc:29] Ignore above cudart dlerror if you do not have a GPU set up on your machine.\n"
     ]
    }
   ],
   "source": [
    "from keras.models import Sequential\n",
    "from keras.layers import LSTM\n",
    "from keras.layers import Dropout\n",
    "from keras.layers import Dense\n",
    "from sklearn.metrics import mean_squared_error\n",
    "from math import sqrt"
   ]
  },
  {
   "cell_type": "code",
   "execution_count": 11,
   "id": "a5c3ad5b",
   "metadata": {},
   "outputs": [
    {
     "name": "stderr",
     "output_type": "stream",
     "text": [
      "2022-10-22 02:04:20.459338: W tensorflow/stream_executor/platform/default/dso_loader.cc:64] Could not load dynamic library 'libcuda.so.1'; dlerror: libcuda.so.1: cannot open shared object file: No such file or directory\n",
      "2022-10-22 02:04:20.461615: W tensorflow/stream_executor/cuda/cuda_driver.cc:269] failed call to cuInit: UNKNOWN ERROR (303)\n",
      "2022-10-22 02:04:20.461752: I tensorflow/stream_executor/cuda/cuda_diagnostics.cc:156] kernel driver does not appear to be running on this host (nihal-Lenovo-B50-70): /proc/driver/nvidia/version does not exist\n",
      "2022-10-22 02:04:20.466940: I tensorflow/core/platform/cpu_feature_guard.cc:193] This TensorFlow binary is optimized with oneAPI Deep Neural Network Library (oneDNN) to use the following CPU instructions in performance-critical operations:  AVX2 FMA\n",
      "To enable them in other operations, rebuild TensorFlow with the appropriate compiler flags.\n"
     ]
    },
    {
     "name": "stdout",
     "output_type": "stream",
     "text": [
      "Epoch 1/15\n",
      "50/50 [==============================] - 49s 510ms/step - loss: 0.0277\n",
      "Epoch 2/15\n",
      "50/50 [==============================] - 29s 584ms/step - loss: 0.0017\n",
      "Epoch 3/15\n",
      "50/50 [==============================] - 33s 660ms/step - loss: 0.0016\n",
      "Epoch 4/15\n",
      "50/50 [==============================] - 29s 573ms/step - loss: 0.0014\n",
      "Epoch 5/15\n",
      "50/50 [==============================] - 29s 578ms/step - loss: 0.0015\n",
      "Epoch 6/15\n",
      "50/50 [==============================] - 29s 573ms/step - loss: 0.0014\n",
      "Epoch 7/15\n",
      "50/50 [==============================] - 29s 569ms/step - loss: 0.0012\n",
      "Epoch 8/15\n",
      "50/50 [==============================] - 28s 564ms/step - loss: 0.0014\n",
      "Epoch 9/15\n",
      "50/50 [==============================] - 30s 598ms/step - loss: 0.0011\n",
      "Epoch 10/15\n",
      "50/50 [==============================] - 29s 585ms/step - loss: 0.0013\n",
      "Epoch 11/15\n",
      "50/50 [==============================] - 34s 686ms/step - loss: 0.0011\n",
      "Epoch 12/15\n",
      "50/50 [==============================] - 35s 691ms/step - loss: 0.0011\n",
      "Epoch 13/15\n",
      "50/50 [==============================] - 31s 623ms/step - loss: 0.0012\n",
      "Epoch 14/15\n",
      "50/50 [==============================] - 42s 831ms/step - loss: 0.0010\n",
      "Epoch 15/15\n",
      "50/50 [==============================] - 30s 592ms/step - loss: 9.0653e-04\n"
     ]
    },
    {
     "data": {
      "text/plain": [
       "<keras.callbacks.History at 0x7fbdd07e1390>"
      ]
     },
     "execution_count": 11,
     "metadata": {},
     "output_type": "execute_result"
    }
   ],
   "source": [
    "model = Sequential()\n",
    "model.add(LSTM(units=100,return_sequences=True,input_shape=(X_train.shape[1], 1)))\n",
    "model.add(Dropout(0.1))\n",
    "model.add(LSTM(units=100,return_sequences=True))\n",
    "model.add(Dropout(0.1))\n",
    "model.add(LSTM(units=100,return_sequences=True))\n",
    "model.add(Dropout(0.1))\n",
    "model.add(LSTM(units=1))\n",
    "# model.add(Dropout(0.1))\n",
    "# model.add(Dense(units=1))\n",
    "model.compile(optimizer='adam',loss='mean_squared_error')\n",
    "model.fit(X_train,y_train,epochs=15,batch_size=32)"
   ]
  },
  {
   "cell_type": "code",
   "execution_count": 12,
   "id": "9911e643",
   "metadata": {},
   "outputs": [
    {
     "data": {
      "text/plain": [
       "(35, 1)"
      ]
     },
     "execution_count": 12,
     "metadata": {},
     "output_type": "execute_result"
    }
   ],
   "source": [
    "dataset_test = pd.read_csv('test.csv')      # ../input/data-analytics-ue20cs312/test.csv is full path\n",
    "real_stock_price = dataset_test.iloc[:, 1:2].values\n",
    "real_stock_price.shape"
   ]
  },
  {
   "cell_type": "code",
   "execution_count": 13,
   "id": "3862f217",
   "metadata": {},
   "outputs": [
    {
     "name": "stdout",
     "output_type": "stream",
     "text": [
      "2/2 [==============================] - 7s 109ms/step\n"
     ]
    }
   ],
   "source": [
    "dataset_total = pd.concat((data['Open'], dataset_test['Open']), axis = 0)\n",
    "inputs = dataset_total[len(dataset_total) - len(dataset_test) - 60:].values\n",
    "inputs = inputs.reshape(-1,1)\n",
    "inputs = sc.transform(inputs)\n",
    "X_test = []\n",
    "for i in range(60, len(inputs)):\n",
    "        X_test.append(inputs[i-60:i, 0])\n",
    "X_test = np.array(X_test)\n",
    "X_test = np.reshape(X_test, (X_test.shape[0], X_test.shape[1], 1))\n",
    "predicted_stock_price = model.predict(X_test)\n",
    "predicted_stock_price = sc.inverse_transform(predicted_stock_price)"
   ]
  },
  {
   "cell_type": "code",
   "execution_count": 14,
   "id": "c9a52f75",
   "metadata": {},
   "outputs": [],
   "source": [
    "dataset_test['close'] = predicted_stock_price"
   ]
  },
  {
   "cell_type": "code",
   "execution_count": 15,
   "id": "dccd67e5",
   "metadata": {},
   "outputs": [],
   "source": [
    "dataset_test = dataset_test.drop(['Open'] , axis = 1)\n",
    "dataset_test = dataset_test.drop(['High'] , axis = 1)\n",
    "dataset_test = dataset_test.drop(['Low'] , axis = 1)\n",
    "dataset_test = dataset_test.drop(['Volume'] , axis = 1)"
   ]
  },
  {
   "cell_type": "code",
   "execution_count": 16,
   "id": "f8a6370c",
   "metadata": {},
   "outputs": [],
   "source": [
    "dataset_test = dataset_test.set_index('Date') "
   ]
  },
  {
   "cell_type": "code",
   "execution_count": 23,
   "id": "9a488a2c",
   "metadata": {},
   "outputs": [
    {
     "name": "stdout",
     "output_type": "stream",
     "text": [
      "                  close\n",
      "Date                   \n",
      "2022-08-01  2415.139648\n",
      "2022-08-02  2411.627197\n",
      "2022-08-03  2409.323730\n",
      "2022-08-04  2409.094482\n",
      "2022-08-05  2411.373535\n",
      "2022-08-08  2415.328369\n",
      "2022-08-09  2420.584229\n",
      "2022-08-10  2426.669922\n",
      "2022-08-11  2433.583008\n",
      "2022-08-12  2441.415771\n",
      "2022-08-15  2449.995117\n",
      "2022-08-16  2459.393311\n",
      "2022-08-17  2470.410645\n",
      "2022-08-18  2483.081543\n",
      "2022-08-19  2497.195068\n",
      "2022-08-22  2512.177979\n",
      "2022-08-23  2526.638428\n",
      "2022-08-24  2539.183350\n",
      "2022-08-25  2548.913086\n",
      "2022-08-26  2555.547852\n",
      "2022-08-29  2559.245605\n",
      "2022-08-30  2559.168213\n",
      "2022-08-31  2555.401367\n",
      "2022-09-01  2548.254150\n",
      "2022-09-02  2537.972168\n",
      "2022-09-06  2525.592773\n",
      "2022-09-07  2511.571045\n",
      "2022-09-08  2496.512695\n",
      "2022-09-09  2481.552490\n",
      "2022-09-12  2467.867920\n",
      "2022-09-13  2456.671875\n",
      "2022-09-14  2448.343506\n",
      "2022-09-15  2442.422852\n",
      "2022-09-16  2438.275635\n",
      "2022-09-19  2434.668457\n",
      "rmse =  74.99573338477511\n"
     ]
    }
   ],
   "source": [
    "rmse=sqrt(mean_squared_error(real_stock_price, predicted_stock_price))\n",
    "\n",
    "print(dataset_test)\n",
    "print('rmse = ',rmse)"
   ]
  },
  {
   "cell_type": "code",
   "execution_count": 18,
   "id": "aeeebeac",
   "metadata": {},
   "outputs": [
    {
     "data": {
      "image/png": "[encoded data removed]",
      "text/plain": [
       "<Figure size 640x480 with 1 Axes>"
      ]
     },
     "metadata": {},
     "output_type": "display_data"
    }
   ],
   "source": [
    "plt.plot(real_stock_price, color='blue', label='Stock price')\n",
    "plt.plot(predicted_stock_price, color='red', label='Predicted Stock price')\n",
    "plt.title('My Stock Price Prediction model')\n",
    "plt.ylabel('Stock price')\n",
    "plt.xlabel('Time')\n",
    "plt.show()"
   ]
  }
 ],
 "metadata": {
  "kernelspec": {
   "display_name": "Python 3.10.6 64-bit",
   "language": "python",
   "name": "python3"
  },
  "language_info": {
   "codemirror_mode": {
    "name": "ipython",
    "version": 3
   },
   "file_extension": ".py",
   "mimetype": "text/x-python",
   "name": "python",
   "nbconvert_exporter": "python",
   "pygments_lexer": "ipython3",
   "version": "3.10.6"
  },
  "vscode": {
   "interpreter": {
    "hash": "916dbcbb3f70747c44a77c7bcd40155683ae19c65e1c03b4aa3499c5328201f1"
   }
  }
 },
 "nbformat": 4,
 "nbformat_minor": 5
}
