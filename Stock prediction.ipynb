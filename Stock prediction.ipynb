{
 "cells": [
  {
   "cell_type": "code",
   "execution_count": 1,
   "id": "a2c92559",
   "metadata": {},
   "outputs": [],
   "source": [
    "import numpy as np\n",
    "import matplotlib.pyplot as plt\n",
    "import pandas as pd"
   ]
  },
  {
   "cell_type": "code",
   "execution_count": 2,
   "id": "e3eae680",
   "metadata": {},
   "outputs": [
    {
     "data": {
      "text/plain": [
       "<bound method NDFrame.head of             Date     Open     High      Low    Close    Volume\n",
       "0     2016-01-04  1099.59  1110.75  1093.85  1109.64  66545000\n",
       "1     2016-01-05  1117.47  1130.57  1112.75  1125.85  41227200\n",
       "2     2016-01-06  1116.63  1138.68  1116.10  1133.04  42316800\n",
       "3     2016-01-07  1122.00  1149.76  1117.56  1143.37  64899600\n",
       "4     2016-01-08  1145.64  1149.96  1120.93  1122.88  52138900\n",
       "...          ...      ...      ...      ...      ...       ...\n",
       "1650  2022-07-25  2412.25  2429.44  2387.41  2402.95  29106300\n",
       "1651  2022-07-26  2289.29  2307.08  2255.66  2280.27  48503400\n",
       "1652  2022-07-27  2309.14  2404.25  2296.82  2395.54  43790900\n",
       "1653  2022-07-28  2385.58  2443.26  2377.34  2434.89  25807000\n",
       "1654  2022-07-29  2410.86  2479.24  2406.35  2474.93  32907600\n",
       "\n",
       "[1655 rows x 6 columns]>"
      ]
     },
     "execution_count": 2,
     "metadata": {},
     "output_type": "execute_result"
    }
   ],
   "source": [
    "data = pd.read_csv('train.csv')\n",
    "data.head"
   ]
  },
  {
   "cell_type": "code",
   "execution_count": 3,
   "id": "66be6439",
   "metadata": {},
   "outputs": [],
   "source": [
    "training_set = data.iloc[:, 1:2].values"
   ]
  },
  {
   "cell_type": "code",
   "execution_count": 4,
   "id": "64638df4",
   "metadata": {},
   "outputs": [
    {
     "data": {
      "text/plain": [
       "(1655, 1)"
      ]
     },
     "execution_count": 4,
     "metadata": {},
     "output_type": "execute_result"
    }
   ],
   "source": [
    "from sklearn.preprocessing import MinMaxScaler\n",
    "sc = MinMaxScaler(feature_range=(0,1))\n",
    "training_set_scaled = sc.fit_transform(training_set)\n",
    "training_set_scaled.shape"
   ]
  },
  {
   "cell_type": "code",
   "execution_count": 5,
   "id": "48ff423b",
   "metadata": {},
   "outputs": [],
   "source": [
    "X_train = []\n",
    "y_train = []\n",
    "for i in range(60, 1655):\n",
    "    X_train.append(training_set_scaled[i-60:i, 0])\n",
    "    y_train.append(training_set_scaled[i, 0])\n",
    "X_train, y_train = np.array(X_train), np.array(y_train)\n",
    "X_train = np.reshape(X_train, (X_train.shape[0], X_train.shape[1], 1))"
   ]
  },
  {
   "cell_type": "code",
   "execution_count": 7,
   "id": "c4a8b56b",
   "metadata": {},
   "outputs": [],
   "source": [
    "from keras.models import Sequential\n",
    "from keras.layers import LSTM\n",
    "from keras.layers import Dropout\n",
    "from keras.layers import Dense"
   ]
  },
  {
   "cell_type": "code",
   "execution_count": 8,
   "id": "a5c3ad5b",
   "metadata": {},
   "outputs": [
    {
     "name": "stdout",
     "output_type": "stream",
     "text": [
      "Epoch 1/30\n",
      "50/50 [==============================] - 11s 86ms/step - loss: 0.0243\n",
      "Epoch 2/30\n",
      "50/50 [==============================] - 5s 100ms/step - loss: 0.0048\n",
      "Epoch 3/30\n",
      "50/50 [==============================] - 5s 107ms/step - loss: 0.0046\n",
      "Epoch 4/30\n",
      "50/50 [==============================] - 5s 99ms/step - loss: 0.0037\n",
      "Epoch 5/30\n",
      "50/50 [==============================] - 5s 106ms/step - loss: 0.0041\n",
      "Epoch 6/30\n",
      "50/50 [==============================] - 6s 123ms/step - loss: 0.0033\n",
      "Epoch 7/30\n",
      "50/50 [==============================] - 8s 151ms/step - loss: 0.0035\n",
      "Epoch 8/30\n",
      "50/50 [==============================] - 6s 115ms/step - loss: 0.0028\n",
      "Epoch 9/30\n",
      "50/50 [==============================] - 6s 119ms/step - loss: 0.0033\n",
      "Epoch 10/30\n",
      "50/50 [==============================] - 6s 128ms/step - loss: 0.0033\n",
      "Epoch 11/30\n",
      "50/50 [==============================] - 5s 100ms/step - loss: 0.0028\n",
      "Epoch 12/30\n",
      "50/50 [==============================] - 5s 101ms/step - loss: 0.0029\n",
      "Epoch 13/30\n",
      "50/50 [==============================] - 5s 96ms/step - loss: 0.0031\n",
      "Epoch 14/30\n",
      "50/50 [==============================] - 5s 103ms/step - loss: 0.0028\n",
      "Epoch 15/30\n",
      "50/50 [==============================] - 5s 99ms/step - loss: 0.0027\n",
      "Epoch 16/30\n",
      "50/50 [==============================] - 4s 89ms/step - loss: 0.0026\n",
      "Epoch 17/30\n",
      "50/50 [==============================] - 4s 88ms/step - loss: 0.0028\n",
      "Epoch 18/30\n",
      "50/50 [==============================] - 4s 88ms/step - loss: 0.0025\n",
      "Epoch 19/30\n",
      "50/50 [==============================] - 5s 90ms/step - loss: 0.0026\n",
      "Epoch 20/30\n",
      "50/50 [==============================] - 5s 108ms/step - loss: 0.0023\n",
      "Epoch 21/30\n",
      "50/50 [==============================] - 5s 95ms/step - loss: 0.0026\n",
      "Epoch 22/30\n",
      "50/50 [==============================] - 5s 95ms/step - loss: 0.0022\n",
      "Epoch 23/30\n",
      "50/50 [==============================] - 6s 112ms/step - loss: 0.0023\n",
      "Epoch 24/30\n",
      "50/50 [==============================] - 7s 150ms/step - loss: 0.0024\n",
      "Epoch 25/30\n",
      "50/50 [==============================] - 9s 180ms/step - loss: 0.0024\n",
      "Epoch 26/30\n",
      "50/50 [==============================] - 8s 153ms/step - loss: 0.0023\n",
      "Epoch 27/30\n",
      "50/50 [==============================] - 7s 135ms/step - loss: 0.0021\n",
      "Epoch 28/30\n",
      "50/50 [==============================] - 6s 126ms/step - loss: 0.0023\n",
      "Epoch 29/30\n",
      "50/50 [==============================] - 6s 129ms/step - loss: 0.0019\n",
      "Epoch 30/30\n",
      "50/50 [==============================] - 6s 120ms/step - loss: 0.0021\n"
     ]
    },
    {
     "data": {
      "text/plain": [
       "<keras.callbacks.History at 0x2982c11bfa0>"
      ]
     },
     "execution_count": 8,
     "metadata": {},
     "output_type": "execute_result"
    }
   ],
   "source": [
    "model = Sequential()\n",
    "model.add(LSTM(units=50,return_sequences=True,input_shape=(X_train.shape[1], 1)))\n",
    "model.add(Dropout(0.2))\n",
    "model.add(LSTM(units=50,return_sequences=True))\n",
    "model.add(Dropout(0.2))\n",
    "model.add(LSTM(units=50,return_sequences=True))\n",
    "model.add(Dropout(0.2))\n",
    "model.add(LSTM(units=50))\n",
    "model.add(Dropout(0.2))\n",
    "model.add(Dense(units=1))\n",
    "model.compile(optimizer='adam',loss='mean_squared_error')\n",
    "model.fit(X_train,y_train,epochs=30,batch_size=32)"
   ]
  },
  {
   "cell_type": "code",
   "execution_count": 9,
   "id": "9911e643",
   "metadata": {},
   "outputs": [
    {
     "data": {
      "text/plain": [
       "(35, 1)"
      ]
     },
     "execution_count": 9,
     "metadata": {},
     "output_type": "execute_result"
    }
   ],
   "source": [
    "dataset_test = pd.read_csv('test.csv')\n",
    "real_stock_price = dataset_test.iloc[:, 1:2].values\n",
    "real_stock_price.shape"
   ]
  },
  {
   "cell_type": "code",
   "execution_count": 10,
   "id": "3862f217",
   "metadata": {},
   "outputs": [
    {
     "name": "stderr",
     "output_type": "stream",
     "text": [
      "C:\\Users\\Ram Selvaraj\\AppData\\Local\\Temp\\ipykernel_19548\\3587678286.py:2: FutureWarning: The behavior of `series[i:j]` with an integer-dtype index is deprecated. In a future version, this will be treated as *label-based* indexing, consistent with e.g. `series[i]` lookups. To retain the old behavior, use `series.iloc[i:j]`. To get the future behavior, use `series.loc[i:j]`.\n",
      "  inputs = dataset_total[len(dataset_total) - len(dataset_test) - 60:].values\n"
     ]
    },
    {
     "name": "stdout",
     "output_type": "stream",
     "text": [
      "2/2 [==============================] - 2s 18ms/step\n"
     ]
    }
   ],
   "source": [
    "dataset_total = pd.concat((data['Open'], dataset_test['Open']), axis = 0)\n",
    "inputs = dataset_total[len(dataset_total) - len(dataset_test) - 60:].values\n",
    "inputs = inputs.reshape(-1,1)\n",
    "inputs = sc.transform(inputs)\n",
    "X_test = []\n",
    "for i in range(60, len(inputs)):\n",
    "        X_test.append(inputs[i-60:i, 0])\n",
    "X_test = np.array(X_test)\n",
    "X_test = np.reshape(X_test, (X_test.shape[0], X_test.shape[1], 1))\n",
    "predicted_stock_price = model.predict(X_test)\n",
    "predicted_stock_price = sc.inverse_transform(predicted_stock_price)"
   ]
  },
  {
   "cell_type": "code",
   "execution_count": 11,
   "id": "c9a52f75",
   "metadata": {},
   "outputs": [],
   "source": [
    "dataset_test['close'] = predicted_stock_price"
   ]
  },
  {
   "cell_type": "code",
   "execution_count": 12,
   "id": "dccd67e5",
   "metadata": {},
   "outputs": [],
   "source": [
    "dataset_test = dataset_test.drop(['Open'] , axis = 1)\n",
    "dataset_test = dataset_test.drop(['High'] , axis = 1)\n",
    "dataset_test = dataset_test.drop(['Low'] , axis = 1)\n",
    "dataset_test = dataset_test.drop(['Volume'] , axis = 1)"
   ]
  },
  {
   "cell_type": "code",
   "execution_count": 13,
   "id": "f8a6370c",
   "metadata": {},
   "outputs": [],
   "source": [
    "dataset_test = dataset_test.set_index('Date') "
   ]
  },
  {
   "cell_type": "code",
   "execution_count": 27,
   "id": "9a488a2c",
   "metadata": {},
   "outputs": [
    {
     "data": {
      "text/html": [
       "<div>\n",
       "<style scoped>\n",
       "    .dataframe tbody tr th:only-of-type {\n",
       "        vertical-align: middle;\n",
       "    }\n",
       "\n",
       "    .dataframe tbody tr th {\n",
       "        vertical-align: top;\n",
       "    }\n",
       "\n",
       "    .dataframe thead th {\n",
       "        text-align: right;\n",
       "    }\n",
       "</style>\n",
       "<table border=\"1\" class=\"dataframe\">\n",
       "  <thead>\n",
       "    <tr style=\"text-align: right;\">\n",
       "      <th></th>\n",
       "      <th>close</th>\n",
       "    </tr>\n",
       "    <tr>\n",
       "      <th>Date</th>\n",
       "      <th></th>\n",
       "    </tr>\n",
       "  </thead>\n",
       "  <tbody>\n",
       "    <tr>\n",
       "      <th>2022-08-01</th>\n",
       "      <td>2418.952881</td>\n",
       "    </tr>\n",
       "    <tr>\n",
       "      <th>2022-08-02</th>\n",
       "      <td>2415.322510</td>\n",
       "    </tr>\n",
       "    <tr>\n",
       "      <th>2022-08-03</th>\n",
       "      <td>2413.021973</td>\n",
       "    </tr>\n",
       "    <tr>\n",
       "      <th>2022-08-04</th>\n",
       "      <td>2412.967285</td>\n",
       "    </tr>\n",
       "    <tr>\n",
       "      <th>2022-08-05</th>\n",
       "      <td>2415.537109</td>\n",
       "    </tr>\n",
       "  </tbody>\n",
       "</table>\n",
       "</div>"
      ],
      "text/plain": [
       "                  close\n",
       "Date                   \n",
       "2022-08-01  2418.952881\n",
       "2022-08-02  2415.322510\n",
       "2022-08-03  2413.021973\n",
       "2022-08-04  2412.967285\n",
       "2022-08-05  2415.537109"
      ]
     },
     "execution_count": 27,
     "metadata": {},
     "output_type": "execute_result"
    }
   ],
   "source": [
    "dataset_test.head()"
   ]
  },
  {
   "cell_type": "markdown",
   "id": "c51f82b3",
   "metadata": {},
   "source": [
    "### CHECKING ERROR IN LSTM MODEL"
   ]
  },
  {
   "cell_type": "code",
   "execution_count": 31,
   "id": "c8b77719",
   "metadata": {},
   "outputs": [],
   "source": [
    "lstmTest = pd.read_csv('predicted_submission.csv')\n"
   ]
  },
  {
   "cell_type": "code",
   "execution_count": 32,
   "id": "05b97df6",
   "metadata": {},
   "outputs": [
    {
     "name": "stdout",
     "output_type": "stream",
     "text": [
      "Root Mean Squared Errror: 73.09745046844495\n"
     ]
    }
   ],
   "source": [
    "print(\"Root Mean Squared Errror:\",np.sqrt(mean_squared_error(lstmTest['Close'],dataset_test['close'])))"
   ]
  },
  {
   "cell_type": "markdown",
   "id": "5be86054",
   "metadata": {},
   "source": [
    "# PREDICTING USING LINEAR REGRESSION"
   ]
  },
  {
   "cell_type": "code",
   "execution_count": 15,
   "id": "aeeebeac",
   "metadata": {},
   "outputs": [
    {
     "data": {
      "text/html": [
       "<div>\n",
       "<style scoped>\n",
       "    .dataframe tbody tr th:only-of-type {\n",
       "        vertical-align: middle;\n",
       "    }\n",
       "\n",
       "    .dataframe tbody tr th {\n",
       "        vertical-align: top;\n",
       "    }\n",
       "\n",
       "    .dataframe thead th {\n",
       "        text-align: right;\n",
       "    }\n",
       "</style>\n",
       "<table border=\"1\" class=\"dataframe\">\n",
       "  <thead>\n",
       "    <tr style=\"text-align: right;\">\n",
       "      <th></th>\n",
       "      <th>Date</th>\n",
       "      <th>Open</th>\n",
       "      <th>High</th>\n",
       "      <th>Low</th>\n",
       "      <th>Close</th>\n",
       "      <th>Volume</th>\n",
       "    </tr>\n",
       "  </thead>\n",
       "  <tbody>\n",
       "    <tr>\n",
       "      <th>0</th>\n",
       "      <td>2016-01-04</td>\n",
       "      <td>1099.59</td>\n",
       "      <td>1110.75</td>\n",
       "      <td>1093.85</td>\n",
       "      <td>1109.64</td>\n",
       "      <td>66545000</td>\n",
       "    </tr>\n",
       "    <tr>\n",
       "      <th>1</th>\n",
       "      <td>2016-01-05</td>\n",
       "      <td>1117.47</td>\n",
       "      <td>1130.57</td>\n",
       "      <td>1112.75</td>\n",
       "      <td>1125.85</td>\n",
       "      <td>41227200</td>\n",
       "    </tr>\n",
       "    <tr>\n",
       "      <th>2</th>\n",
       "      <td>2016-01-06</td>\n",
       "      <td>1116.63</td>\n",
       "      <td>1138.68</td>\n",
       "      <td>1116.10</td>\n",
       "      <td>1133.04</td>\n",
       "      <td>42316800</td>\n",
       "    </tr>\n",
       "    <tr>\n",
       "      <th>3</th>\n",
       "      <td>2016-01-07</td>\n",
       "      <td>1122.00</td>\n",
       "      <td>1149.76</td>\n",
       "      <td>1117.56</td>\n",
       "      <td>1143.37</td>\n",
       "      <td>64899600</td>\n",
       "    </tr>\n",
       "    <tr>\n",
       "      <th>4</th>\n",
       "      <td>2016-01-08</td>\n",
       "      <td>1145.64</td>\n",
       "      <td>1149.96</td>\n",
       "      <td>1120.93</td>\n",
       "      <td>1122.88</td>\n",
       "      <td>52138900</td>\n",
       "    </tr>\n",
       "    <tr>\n",
       "      <th>...</th>\n",
       "      <td>...</td>\n",
       "      <td>...</td>\n",
       "      <td>...</td>\n",
       "      <td>...</td>\n",
       "      <td>...</td>\n",
       "      <td>...</td>\n",
       "    </tr>\n",
       "    <tr>\n",
       "      <th>1650</th>\n",
       "      <td>2022-07-25</td>\n",
       "      <td>2412.25</td>\n",
       "      <td>2429.44</td>\n",
       "      <td>2387.41</td>\n",
       "      <td>2402.95</td>\n",
       "      <td>29106300</td>\n",
       "    </tr>\n",
       "    <tr>\n",
       "      <th>1651</th>\n",
       "      <td>2022-07-26</td>\n",
       "      <td>2289.29</td>\n",
       "      <td>2307.08</td>\n",
       "      <td>2255.66</td>\n",
       "      <td>2280.27</td>\n",
       "      <td>48503400</td>\n",
       "    </tr>\n",
       "    <tr>\n",
       "      <th>1652</th>\n",
       "      <td>2022-07-27</td>\n",
       "      <td>2309.14</td>\n",
       "      <td>2404.25</td>\n",
       "      <td>2296.82</td>\n",
       "      <td>2395.54</td>\n",
       "      <td>43790900</td>\n",
       "    </tr>\n",
       "    <tr>\n",
       "      <th>1653</th>\n",
       "      <td>2022-07-28</td>\n",
       "      <td>2385.58</td>\n",
       "      <td>2443.26</td>\n",
       "      <td>2377.34</td>\n",
       "      <td>2434.89</td>\n",
       "      <td>25807000</td>\n",
       "    </tr>\n",
       "    <tr>\n",
       "      <th>1654</th>\n",
       "      <td>2022-07-29</td>\n",
       "      <td>2410.86</td>\n",
       "      <td>2479.24</td>\n",
       "      <td>2406.35</td>\n",
       "      <td>2474.93</td>\n",
       "      <td>32907600</td>\n",
       "    </tr>\n",
       "  </tbody>\n",
       "</table>\n",
       "<p>1655 rows × 6 columns</p>\n",
       "</div>"
      ],
      "text/plain": [
       "            Date     Open     High      Low    Close    Volume\n",
       "0     2016-01-04  1099.59  1110.75  1093.85  1109.64  66545000\n",
       "1     2016-01-05  1117.47  1130.57  1112.75  1125.85  41227200\n",
       "2     2016-01-06  1116.63  1138.68  1116.10  1133.04  42316800\n",
       "3     2016-01-07  1122.00  1149.76  1117.56  1143.37  64899600\n",
       "4     2016-01-08  1145.64  1149.96  1120.93  1122.88  52138900\n",
       "...          ...      ...      ...      ...      ...       ...\n",
       "1650  2022-07-25  2412.25  2429.44  2387.41  2402.95  29106300\n",
       "1651  2022-07-26  2289.29  2307.08  2255.66  2280.27  48503400\n",
       "1652  2022-07-27  2309.14  2404.25  2296.82  2395.54  43790900\n",
       "1653  2022-07-28  2385.58  2443.26  2377.34  2434.89  25807000\n",
       "1654  2022-07-29  2410.86  2479.24  2406.35  2474.93  32907600\n",
       "\n",
       "[1655 rows x 6 columns]"
      ]
     },
     "execution_count": 15,
     "metadata": {},
     "output_type": "execute_result"
    }
   ],
   "source": [
    "df = pd.read_csv('train.csv')\n",
    "df"
   ]
  },
  {
   "cell_type": "code",
   "execution_count": 16,
   "id": "db013670",
   "metadata": {},
   "outputs": [],
   "source": [
    "from sklearn.model_selection import train_test_split\n",
    "X_train, X_test, y_train, y_test = train_test_split(df[['Open','High','Low','Volume']], df[['Close']], test_size=.2)"
   ]
  },
  {
   "cell_type": "code",
   "execution_count": 17,
   "id": "2d89f306",
   "metadata": {},
   "outputs": [],
   "source": [
    "from sklearn.linear_model import LinearRegression\n",
    "model = LinearRegression()\n",
    "model.fit(X_train, y_train)\n",
    "y_pred = model.predict(X_test)"
   ]
  },
  {
   "cell_type": "code",
   "execution_count": 18,
   "id": "192c1de9",
   "metadata": {},
   "outputs": [
    {
     "name": "stdout",
     "output_type": "stream",
     "text": [
      "Root Mean Squared Errror: 7.733657958812796\n"
     ]
    },
    {
     "data": {
      "text/html": [
       "<div>\n",
       "<style scoped>\n",
       "    .dataframe tbody tr th:only-of-type {\n",
       "        vertical-align: middle;\n",
       "    }\n",
       "\n",
       "    .dataframe tbody tr th {\n",
       "        vertical-align: top;\n",
       "    }\n",
       "\n",
       "    .dataframe thead th {\n",
       "        text-align: right;\n",
       "    }\n",
       "</style>\n",
       "<table border=\"1\" class=\"dataframe\">\n",
       "  <thead>\n",
       "    <tr style=\"text-align: right;\">\n",
       "      <th></th>\n",
       "      <th>Actual</th>\n",
       "      <th>Predicted</th>\n",
       "    </tr>\n",
       "  </thead>\n",
       "  <tbody>\n",
       "    <tr>\n",
       "      <th>736</th>\n",
       "      <td>1597.02</td>\n",
       "      <td>1608.329883</td>\n",
       "    </tr>\n",
       "    <tr>\n",
       "      <th>1361</th>\n",
       "      <td>2608.95</td>\n",
       "      <td>2607.422740</td>\n",
       "    </tr>\n",
       "    <tr>\n",
       "      <th>1382</th>\n",
       "      <td>2636.11</td>\n",
       "      <td>2635.881087</td>\n",
       "    </tr>\n",
       "    <tr>\n",
       "      <th>872</th>\n",
       "      <td>1794.13</td>\n",
       "      <td>1801.415007</td>\n",
       "    </tr>\n",
       "    <tr>\n",
       "      <th>805</th>\n",
       "      <td>1684.79</td>\n",
       "      <td>1682.781328</td>\n",
       "    </tr>\n",
       "    <tr>\n",
       "      <th>...</th>\n",
       "      <td>...</td>\n",
       "      <td>...</td>\n",
       "    </tr>\n",
       "    <tr>\n",
       "      <th>915</th>\n",
       "      <td>1824.12</td>\n",
       "      <td>1823.216280</td>\n",
       "    </tr>\n",
       "    <tr>\n",
       "      <th>1160</th>\n",
       "      <td>2153.99</td>\n",
       "      <td>2141.117990</td>\n",
       "    </tr>\n",
       "    <tr>\n",
       "      <th>92</th>\n",
       "      <td>1151.08</td>\n",
       "      <td>1149.440360</td>\n",
       "    </tr>\n",
       "    <tr>\n",
       "      <th>1433</th>\n",
       "      <td>2835.85</td>\n",
       "      <td>2837.042714</td>\n",
       "    </tr>\n",
       "    <tr>\n",
       "      <th>779</th>\n",
       "      <td>1622.88</td>\n",
       "      <td>1616.463130</td>\n",
       "    </tr>\n",
       "  </tbody>\n",
       "</table>\n",
       "<p>331 rows × 2 columns</p>\n",
       "</div>"
      ],
      "text/plain": [
       "       Actual    Predicted\n",
       "736   1597.02  1608.329883\n",
       "1361  2608.95  2607.422740\n",
       "1382  2636.11  2635.881087\n",
       "872   1794.13  1801.415007\n",
       "805   1684.79  1682.781328\n",
       "...       ...          ...\n",
       "915   1824.12  1823.216280\n",
       "1160  2153.99  2141.117990\n",
       "92    1151.08  1149.440360\n",
       "1433  2835.85  2837.042714\n",
       "779   1622.88  1616.463130\n",
       "\n",
       "[331 rows x 2 columns]"
      ]
     },
     "execution_count": 18,
     "metadata": {},
     "output_type": "execute_result"
    }
   ],
   "source": [
    "from sklearn.metrics import mean_squared_error, r2_score, mean_absolute_error\n",
    "print(\"Root Mean Squared Errror:\",np.sqrt(mean_squared_error(y_test,y_pred)))\n",
    "df_pred = pd.DataFrame(y_test.values, columns=['Actual'], index=y_test.index)\n",
    "df_pred['Predicted'] = y_pred\n",
    "df_pred"
   ]
  },
  {
   "cell_type": "markdown",
   "id": "1d64ba03",
   "metadata": {},
   "source": [
    "### RMSE ERROR OF 7.733 for LR, Clearly much less than the 73 in lstm"
   ]
  },
  {
   "cell_type": "markdown",
   "id": "b4f8cc7c",
   "metadata": {},
   "source": [
    "## RUNNING FOR TEST CSV-"
   ]
  },
  {
   "cell_type": "code",
   "execution_count": 22,
   "id": "96ef136e",
   "metadata": {},
   "outputs": [
    {
     "data": {
      "text/html": [
       "<div>\n",
       "<style scoped>\n",
       "    .dataframe tbody tr th:only-of-type {\n",
       "        vertical-align: middle;\n",
       "    }\n",
       "\n",
       "    .dataframe tbody tr th {\n",
       "        vertical-align: top;\n",
       "    }\n",
       "\n",
       "    .dataframe thead th {\n",
       "        text-align: right;\n",
       "    }\n",
       "</style>\n",
       "<table border=\"1\" class=\"dataframe\">\n",
       "  <thead>\n",
       "    <tr style=\"text-align: right;\">\n",
       "      <th></th>\n",
       "      <th>Date</th>\n",
       "      <th>Open</th>\n",
       "      <th>High</th>\n",
       "      <th>Low</th>\n",
       "      <th>Volume</th>\n",
       "    </tr>\n",
       "  </thead>\n",
       "  <tbody>\n",
       "    <tr>\n",
       "      <th>0</th>\n",
       "      <td>2022-08-01</td>\n",
       "      <td>2455.71</td>\n",
       "      <td>2500.26</td>\n",
       "      <td>2447.87</td>\n",
       "      <td>24327600</td>\n",
       "    </tr>\n",
       "    <tr>\n",
       "      <th>1</th>\n",
       "      <td>2022-08-02</td>\n",
       "      <td>2466.68</td>\n",
       "      <td>2494.73</td>\n",
       "      <td>2447.99</td>\n",
       "      <td>19076300</td>\n",
       "    </tr>\n",
       "    <tr>\n",
       "      <th>2</th>\n",
       "      <td>2022-08-03</td>\n",
       "      <td>2473.29</td>\n",
       "      <td>2507.59</td>\n",
       "      <td>2449.39</td>\n",
       "      <td>27459700</td>\n",
       "    </tr>\n",
       "    <tr>\n",
       "      <th>3</th>\n",
       "      <td>2022-08-04</td>\n",
       "      <td>2475.98</td>\n",
       "      <td>2487.75</td>\n",
       "      <td>2419.88</td>\n",
       "      <td>23699600</td>\n",
       "    </tr>\n",
       "    <tr>\n",
       "      <th>4</th>\n",
       "      <td>2022-08-05</td>\n",
       "      <td>2414.66</td>\n",
       "      <td>2444.17</td>\n",
       "      <td>2409.01</td>\n",
       "      <td>18912400</td>\n",
       "    </tr>\n",
       "  </tbody>\n",
       "</table>\n",
       "</div>"
      ],
      "text/plain": [
       "         Date     Open     High      Low    Volume\n",
       "0  2022-08-01  2455.71  2500.26  2447.87  24327600\n",
       "1  2022-08-02  2466.68  2494.73  2447.99  19076300\n",
       "2  2022-08-03  2473.29  2507.59  2449.39  27459700\n",
       "3  2022-08-04  2475.98  2487.75  2419.88  23699600\n",
       "4  2022-08-05  2414.66  2444.17  2409.01  18912400"
      ]
     },
     "execution_count": 22,
     "metadata": {},
     "output_type": "execute_result"
    }
   ],
   "source": [
    "dftest = pd.read_csv('test.csv')\n",
    "dftest.head()"
   ]
  },
  {
   "cell_type": "code",
   "execution_count": 25,
   "id": "646d6d0d",
   "metadata": {},
   "outputs": [
    {
     "data": {
      "text/html": [
       "<div>\n",
       "<style scoped>\n",
       "    .dataframe tbody tr th:only-of-type {\n",
       "        vertical-align: middle;\n",
       "    }\n",
       "\n",
       "    .dataframe tbody tr th {\n",
       "        vertical-align: top;\n",
       "    }\n",
       "\n",
       "    .dataframe thead th {\n",
       "        text-align: right;\n",
       "    }\n",
       "</style>\n",
       "<table border=\"1\" class=\"dataframe\">\n",
       "  <thead>\n",
       "    <tr style=\"text-align: right;\">\n",
       "      <th></th>\n",
       "      <th>Date</th>\n",
       "      <th>Close</th>\n",
       "    </tr>\n",
       "  </thead>\n",
       "  <tbody>\n",
       "    <tr>\n",
       "      <th>0</th>\n",
       "      <td>2022-08-01</td>\n",
       "      <td>2485.103225</td>\n",
       "    </tr>\n",
       "    <tr>\n",
       "      <th>1</th>\n",
       "      <td>2022-08-02</td>\n",
       "      <td>2473.488938</td>\n",
       "    </tr>\n",
       "    <tr>\n",
       "      <th>2</th>\n",
       "      <td>2022-08-03</td>\n",
       "      <td>2480.619906</td>\n",
       "    </tr>\n",
       "    <tr>\n",
       "      <th>3</th>\n",
       "      <td>2022-08-04</td>\n",
       "      <td>2437.447200</td>\n",
       "    </tr>\n",
       "    <tr>\n",
       "      <th>4</th>\n",
       "      <td>2022-08-05</td>\n",
       "      <td>2433.920886</td>\n",
       "    </tr>\n",
       "  </tbody>\n",
       "</table>\n",
       "</div>"
      ],
      "text/plain": [
       "         Date        Close\n",
       "0  2022-08-01  2485.103225\n",
       "1  2022-08-02  2473.488938\n",
       "2  2022-08-03  2480.619906\n",
       "3  2022-08-04  2437.447200\n",
       "4  2022-08-05  2433.920886"
      ]
     },
     "execution_count": 25,
     "metadata": {},
     "output_type": "execute_result"
    }
   ],
   "source": [
    "y_testpred = model.predict(dftest[['Open','High','Low','Volume']])\n",
    "dftestnew = dftest\n",
    "dftestnew['Close'] = y_testpred\n",
    "dftestnew[['Date','Close']].head()\n",
    "#dftestnew.reset_index(inplace = True)\n",
    "dftestnew[['Date','Close']].to_csv('LRPred.csv', index=False)\n",
    "dftestnew[['Date','Close']].head()"
   ]
  },
  {
   "cell_type": "code",
   "execution_count": 26,
   "id": "fd067c73",
   "metadata": {},
   "outputs": [
    {
     "name": "stdout",
     "output_type": "stream",
     "text": [
      "Root Mean Squared Errror: 0.6753815216705865\n"
     ]
    }
   ],
   "source": [
    "pred = dftestnew\n",
    "actual = pd.read_csv('predicted_submission.csv')\n",
    "print(\"Root Mean Squared Errror:\",np.sqrt(mean_squared_error(actual['Close'],pred['Close'])))"
   ]
  },
  {
   "cell_type": "markdown",
   "id": "ecb4a0f1",
   "metadata": {},
   "source": [
    "### CLEARLY VERY SIMILAR TO PREDICTED SUBMISSION CSV"
   ]
  }
 ],
 "metadata": {
  "kernelspec": {
   "display_name": "Python 3.9.6 64-bit",
   "language": "python",
   "name": "python3"
  },
  "language_info": {
   "codemirror_mode": {
    "name": "ipython",
    "version": 3
   },
   "file_extension": ".py",
   "mimetype": "text/x-python",
   "name": "python",
   "nbconvert_exporter": "python",
   "pygments_lexer": "ipython3",
   "version": "3.9.6"
  },
  "vscode": {
   "interpreter": {
    "hash": "84e6215487bedffe0f8bb9c42ef0c7a8bb3fbdce8a2fccba0a0c2d9bc57c1322"
   }
  }
 },
 "nbformat": 4,
 "nbformat_minor": 5
}
